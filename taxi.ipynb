{
  "cells": [
    {
      "metadata": {
        "_uuid": "8f2839f25d086af736a60e9eeb907d3b93b6e0e5",
        "_cell_guid": "b1076dfc-b9ad-4769-8c92-a6c4dae69d19",
        "trusted": true
      },
      "cell_type": "code",
      "source": "# This Python 3 environment comes with many helpful analytics libraries installed\n# It is defined by the kaggle/python docker image: https://github.com/kaggle/docker-python\n# For example, here's several helpful packages to load in \n\nimport numpy as np # linear algebra\nimport pandas as pd # data processing, CSV file I/O (e.g. pd.read_csv)\nimport zipfile\nimport json\nfrom sklearn.linear_model import LinearRegression\nfrom sklearn.ensemble import RandomForestRegressor\nfrom datetime import datetime\nimport time\nfrom math import *",
      "execution_count": null,
      "outputs": []
    },
    {
      "metadata": {
        "_cell_guid": "79c7e3d0-c299-4dcb-8224-4455121ee9b0",
        "_uuid": "d629ff2d2480ee46fbb7e2d37f6b5fab8052498a",
        "trusted": true
      },
      "cell_type": "code",
      "source": "zf = zipfile.ZipFile('../input/train.csv.zip')\ntrain = pd.read_csv(zf.open('train.csv'), usecols=['DAY_TYPE','TIMESTAMP','POLYLINE'])\n# print(train)\ntrain['POLYLINE'] = (train['POLYLINE'].apply(lambda x: json.loads(x)))\n# print(train['DAY_TYPE'])\ntrain.head()",
      "execution_count": null,
      "outputs": []
    },
    {
      "metadata": {
        "trusted": true,
        "_uuid": "1a5c3bec1ba693d7e95f6684d7eb3770408e44d6"
      },
      "cell_type": "code",
      "source": "def data_processing(train):\n    ts=pd.DataFrame()\n    ts['length'] = train['POLYLINE'].apply(lambda x: len(x))\n    ts['TIMESTAMP']=train['TIMESTAMP'].apply(lambda x: time.localtime(int(x)).tm_hour)\n    ts['start_long'] = train['POLYLINE'].apply(lambda x: x[0][0] if len(x)>0 else 0 )\n    ts['start_lat'] = train['POLYLINE'].apply(lambda x: x[0][1] if len(x)>0 else 0)\n    ts['end_long'] = train['POLYLINE'].apply(lambda x: x[len(x)-1][0] if len(x)>0 else 0 )\n    ts['end_lat'] = train['POLYLINE'].apply(lambda x: x[len(x)-1][1] if len(x)>0 else 0 )\n    \n    ts['distance']=train['POLYLINE'].apply((lambda x : get_dist(x[0][0],x[0][1],x[len(x)-1][0],x[len(x)-1][1]) if len(x)>0 else 0))\n    ts['bearing']=train['POLYLINE'].apply((lambda x : calcBearing(x[0][0],x[0][1],x[len(x)-1][0],x[len(x)-1][1]) if len(x)>0 else 0))\n    #     print(ts['distance'])\n    ts['d_type'] = train['DAY_TYPE'].apply(lambda x: ord(x)-ord('A'))\n    ts.head()\n    return ts",
      "execution_count": null,
      "outputs": []
    },
    {
      "metadata": {
        "trusted": true,
        "_uuid": "fc18ab328549a7d5e824b122f4cf1515eba095ef"
      },
      "cell_type": "code",
      "source": "### Get Haversine distance\ndef get_dist(lon1,lat1,lon2,lat2):\n  lon_diff = np.abs(lon1-lon2)*np.pi/360.0\n  lat_diff = np.abs(lat1-lat2)*np.pi/360.0\n  a = np.sin(lat_diff)**2 + np.cos(lat1*np.pi/180.0) * np.cos(lat2*np.pi/180.0) * np.sin(lon_diff)**2  \n  d = 2*6371*np.arctan2(np.sqrt(a), np.sqrt(1-a))\n  return(d)\n",
      "execution_count": null,
      "outputs": []
    },
    {
      "metadata": {
        "trusted": true,
        "_uuid": "23a1c001e3d055b04b5000f6050ba32713f385fd"
      },
      "cell_type": "code",
      "source": "# Bearing\ndef calcBearing(lon1,lat1,lon2,lat2):\n    dLon = lon2 - lon1\n    y = sin(dLon) * cos(lat2)\n    x = cos(lat1) * sin(lat2) \\\n        - sin(lat1) * cos(lat2) * cos(dLon)\n    return degrees(atan2(y, x))",
      "execution_count": null,
      "outputs": []
    },
    {
      "metadata": {
        "trusted": true,
        "_uuid": "07dd44b616cd07ab8d3a349f8025de821a827aa5"
      },
      "cell_type": "code",
      "source": "def get_features(ts):\n    \n    a=np.array(ts['d_type'],dtype='float64').reshape(-1,1)\n    b=np.array(ts['start_long'],dtype='float64').reshape(-1,1)\n    c=np.array(ts['start_lat'],dtype='float64').reshape(-1,1)\n    g=np.array(ts['end_long'],dtype='float64').reshape(-1,1)\n    h=np.array(ts['end_lat'],dtype='float64').reshape(-1,1)\n    d=np.array(ts['distance'],dtype='float64').reshape(-1,1)\n    e=np.array(ts['TIMESTAMP'],dtype='float64').reshape(-1,1)\n    f=np.array(ts['bearing'],dtype='float64').reshape(-1,1)\n    \n    \n    features=np.concatenate((a,b,c,d,e,f,g,h),axis=1)\n    return features",
      "execution_count": null,
      "outputs": []
    },
    {
      "metadata": {
        "trusted": true,
        "_uuid": "ea15cf7e44bb7fd3ba1f8b98a6bdcf93679c5639"
      },
      "cell_type": "code",
      "source": "ts=data_processing(train)\nfeatures=get_features(ts)\n\nts['length']=ts['length'].apply(lambda x: 15*(x-1))\nY_train=np.array(ts['length'],dtype='float64')\n\nlr=LinearRegression()\nlr.fit(features,Y_train)\nrm=RandomForestRegressor()\nrm.fit(features,Y_train)",
      "execution_count": null,
      "outputs": []
    },
    {
      "metadata": {
        "trusted": true,
        "_uuid": "d392b2ed249baf82bf1995fbb38b8e7d8f106e5e"
      },
      "cell_type": "code",
      "source": "# print(train['POLYLINE'][0])\nzf = zipfile.ZipFile('../input/test.csv.zip')\ntest = pd.read_csv(zf.open('test.csv'), usecols=['DAY_TYPE','TIMESTAMP','POLYLINE','TRIP_ID'])\ntest['POLYLINE'] = test['POLYLINE'].apply(json.loads)\ntst=data_processing(test)\nfea=get_features(tst)\n# test['length'] = test['POLYLINE'].apply(lambda x: len(x))\n# X_test=test['length']\n# travel_test=test['length'].apply(lambda x:15*(x-1))\n\n# for i in range(320):\n#     if(travel_test[i]>699):\n#         travel_test[i]=travel_test[i]\n#     else:\n#         travel_test[i]=699\n# print(travel_test)\n# X_test=np.array(X_test,dtype='float64').reshape(-1,1)\nids=test['TRIP_ID']\ny_predict=lr.predict(fea)\nY_predict=rm.predict(fea)\ntf=pd.DataFrame(ids,columns=['TRIP_ID'])\nrf=pd.DataFrame(ids,columns=['TRIP_ID'])\ntf['TRAVEL_TIME']=y_predict\nrf['TRAVEL_TIME']=Y_predict\ntf.to_csv('lr.csv', index=False)\nrf.to_csv('rf.csv', index=False)\n\n# avg=sum(Y_train)/len(Y_train)\n# print(avg)\n",
      "execution_count": null,
      "outputs": []
    },
    {
      "metadata": {
        "trusted": true,
        "_uuid": "e77d3990112d8c462c50a0c29093ffd855a6dabc"
      },
      "cell_type": "code",
      "source": "",
      "execution_count": null,
      "outputs": []
    }
  ],
  "metadata": {
    "kernelspec": {
      "display_name": "Python 3",
      "language": "python",
      "name": "python3"
    },
    "language_info": {
      "name": "python",
      "version": "3.6.6",
      "mimetype": "text/x-python",
      "codemirror_mode": {
        "name": "ipython",
        "version": 3
      },
      "pygments_lexer": "ipython3",
      "nbconvert_exporter": "python",
      "file_extension": ".py"
    }
  },
  "nbformat": 4,
  "nbformat_minor": 1
}